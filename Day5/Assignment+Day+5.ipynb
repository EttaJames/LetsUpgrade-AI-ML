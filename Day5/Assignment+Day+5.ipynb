{
 "cells": [
  {
   "cell_type": "markdown",
   "metadata": {},
   "source": [
    "### Question 1\n",
    "\n",
    "#### Write a Python program to find the first 20 non-even prime natural numbers."
   ]
  },
  {
   "cell_type": "code",
   "execution_count": 3,
   "metadata": {
    "collapsed": false
   },
   "outputs": [
    {
     "name": "stdout",
     "output_type": "stream",
     "text": [
      "3 5 7 11 13 17 19 23 29 31 37 41 43 47 53 59 61 67 71 73 "
     ]
    }
   ],
   "source": [
    "def prime(number):\n",
    "    for x in range(2, number):\n",
    "        if((number%x)==0):\n",
    "            return False\n",
    "            break\n",
    "    return True\n",
    "\n",
    "start = 0\n",
    "for y in range(3,100):\n",
    "    if(prime(y)==True):\n",
    "        print(y,end=\" \")\n",
    "        start=start+1\n",
    "    if(start==20):\n",
    "        break"
   ]
  },
  {
   "cell_type": "markdown",
   "metadata": {},
   "source": [
    "### Question 2\n",
    "\n",
    "#### Write a Python program to implement 15 functions of string.\n",
    "\n"
   ]
  },
  {
   "cell_type": "code",
   "execution_count": 18,
   "metadata": {
    "collapsed": false
   },
   "outputs": [
    {
     "name": "stdout",
     "output_type": "stream",
     "text": [
      "gr\n"
     ]
    }
   ],
   "source": [
    "# function1\n",
    "text = 'Congratulations'\n",
    "print (text[3:5])\t    #return a range of character\n"
   ]
  },
  {
   "cell_type": "code",
   "execution_count": 19,
   "metadata": {
    "collapsed": false
   },
   "outputs": [
    {
     "name": "stdout",
     "output_type": "stream",
     "text": [
      "HelloWorld\n"
     ]
    }
   ],
   "source": [
    "#  function2\n",
    "var1 = 'Hello'\n",
    "var2 = 'World'\n",
    "print (var1+var2) #concatenation\n",
    "\n"
   ]
  },
  {
   "cell_type": "code",
   "execution_count": 20,
   "metadata": {
    "collapsed": false
   },
   "outputs": [
    {
     "name": "stdout",
     "output_type": "stream",
     "text": [
      "PythonPythonPython\n"
     ]
    }
   ],
   "source": [
    "#  function3\n",
    "var1 = 'Python'\n",
    "print (var1*3) #repetition\n"
   ]
  },
  {
   "cell_type": "code",
   "execution_count": 21,
   "metadata": {
    "collapsed": false
   },
   "outputs": [
    {
     "name": "stdout",
     "output_type": "stream",
     "text": [
      "l\n"
     ]
    }
   ],
   "source": [
    "#  function4\n",
    "var1 = 'Television'\n",
    "print (var1[2]) #slicing function"
   ]
  },
  {
   "cell_type": "code",
   "execution_count": 23,
   "metadata": {
    "collapsed": false
   },
   "outputs": [
    {
     "name": "stdout",
     "output_type": "stream",
     "text": [
      "True\n"
     ]
    }
   ],
   "source": [
    "#  function5\n",
    "\n",
    "var1 = 'Houston'\n",
    "print ('n' in var1) # Membership function"
   ]
  },
  {
   "cell_type": "code",
   "execution_count": 24,
   "metadata": {
    "collapsed": false
   },
   "outputs": [
    {
     "name": "stdout",
     "output_type": "stream",
     "text": [
      "Houston"
     ]
    }
   ],
   "source": [
    "#  function6\n",
    "\n",
    "for var in var1: print (var, end =\"\") # iteration(for)"
   ]
  },
  {
   "cell_type": "code",
   "execution_count": 26,
   "metadata": {
    "collapsed": false
   },
   "outputs": [
    {
     "name": "stdout",
     "output_type": "stream",
     "text": [
      "Python\n"
     ]
    }
   ],
   "source": [
    "#  function7\n",
    "var = 'PYTHON'\n",
    "print (var.capitalize())\n"
   ]
  },
  {
   "cell_type": "code",
   "execution_count": 27,
   "metadata": {
    "collapsed": false
   },
   "outputs": [
    {
     "name": "stdout",
     "output_type": "stream",
     "text": [
      "camelcase\n"
     ]
    }
   ],
   "source": [
    "#  function8\n",
    "var = 'CamelCase'\n",
    "print (var.lower())\n"
   ]
  },
  {
   "cell_type": "code",
   "execution_count": 28,
   "metadata": {
    "collapsed": false
   },
   "outputs": [
    {
     "name": "stdout",
     "output_type": "stream",
     "text": [
      "CAMELCASE\n"
     ]
    }
   ],
   "source": [
    "#  function 9\n",
    "var = 'CamelCase'\n",
    "print (var.upper())\n"
   ]
  },
  {
   "cell_type": "code",
   "execution_count": 29,
   "metadata": {
    "collapsed": false
   },
   "outputs": [
    {
     "name": "stdout",
     "output_type": "stream",
     "text": [
      "cAMELcASE\n"
     ]
    }
   ],
   "source": [
    "#  function 10\n",
    "var = 'CamelCase'\n",
    "print (var.swapcase())\n"
   ]
  },
  {
   "cell_type": "code",
   "execution_count": 30,
   "metadata": {
    "collapsed": false
   },
   "outputs": [
    {
     "name": "stdout",
     "output_type": "stream",
     "text": [
      "Welcome To Learners Upgrade\n"
     ]
    }
   ],
   "source": [
    "#  function 11\n",
    "var = 'welcome to Learners upgrade'\n",
    "print (var.title())\n"
   ]
  },
  {
   "cell_type": "code",
   "execution_count": 31,
   "metadata": {
    "collapsed": false
   },
   "outputs": [
    {
     "name": "stdout",
     "output_type": "stream",
     "text": [
      "2\n"
     ]
    }
   ],
   "source": [
    "#  function 12\n",
    "var='CamelCase'\n",
    "str='e'\n",
    "print (var.count(str))\n"
   ]
  },
  {
   "cell_type": "code",
   "execution_count": 33,
   "metadata": {
    "collapsed": false
   },
   "outputs": [
    {
     "name": "stdout",
     "output_type": "stream",
     "text": [
      "1\n"
     ]
    }
   ],
   "source": [
    "#  function 13\n",
    "var1='Elephant'\n",
    "print (var1.count('e'))"
   ]
  },
  {
   "cell_type": "code",
   "execution_count": 34,
   "metadata": {
    "collapsed": false
   },
   "outputs": [
    {
     "name": "stdout",
     "output_type": "stream",
     "text": [
      "1\n"
     ]
    }
   ],
   "source": [
    "#  function 14\n",
    "var2='Elephant'\n",
    "print (var2.count('E',0,5))\n"
   ]
  },
  {
   "cell_type": "code",
   "execution_count": 36,
   "metadata": {
    "collapsed": false
   },
   "outputs": [
    {
     "name": "stdout",
     "output_type": "stream",
     "text": [
      "False\n"
     ]
    }
   ],
   "source": [
    "#  function 15\n",
    "var='Plates'\n",
    "print (var.islower())\n"
   ]
  },
  {
   "cell_type": "markdown",
   "metadata": {},
   "source": [
    "### Question 3\n",
    "\n",
    "#### Write a Python program to check if the given string is a Palindrome or Anagram or None of them. Display the message accordingly to the user.\n",
    "\n"
   ]
  },
  {
   "cell_type": "code",
   "execution_count": 16,
   "metadata": {
    "collapsed": false
   },
   "outputs": [
    {
     "name": "stdout",
     "output_type": "stream",
     "text": [
      "Please enter the first word: color\n",
      "Please enter the second word: madam\n",
      "The string is not an Anagram\n",
      "Text B is a Palindrome\n"
     ]
    }
   ],
   "source": [
    "def check(textA, textB):\n",
    "    if(sorted(textA)==sorted(textB)):\n",
    "        print(\"The given string is an Anagram\")\n",
    "    else:\n",
    "        print(\"The string is not an Anagram\")\n",
    "    if(textA==textA[::-1]):\n",
    "        print(\"Text A is a Palindrome\")\n",
    "    if(textB==textB[::-1]):\n",
    "        print(\"Text B is a Palindrome\")\n",
    "        \n",
    "textA = input(\"Please enter the first word: \")\n",
    "textB = input(\"Please enter the second word: \")\n",
    "check(textA, textB)"
   ]
  },
  {
   "cell_type": "markdown",
   "metadata": {},
   "source": [
    "### Question 4\n",
    "\n",
    "#### Write a Python's user defined function that removes all the additional characters from the string and converts it finally to lower case using built-in lower(). eg: If the string is \"Dr. Darshan Ingle @AI-ML Trainer\", then the output be \"drdarshaningleaimltrainer\"."
   ]
  },
  {
   "cell_type": "code",
   "execution_count": 12,
   "metadata": {
    "collapsed": false
   },
   "outputs": [
    {
     "name": "stdout",
     "output_type": "stream",
     "text": [
      "The original string is =  Dr. Darshan Ingle @AI-ML Trainer\n",
      "After taking out the special characters from the string\n",
      "The result is = drdarshaningleaimltrainer\n"
     ]
    }
   ],
   "source": [
    "def replace_char(x):\n",
    "    ignore = [\" \", \"-\", \".\", \"@\"]\n",
    "    for a in ignore:\n",
    "        x = x.replace(a, \"\")\n",
    "        x = x.lower()\n",
    "    print(\"After taking out the special characters from the string\")\n",
    "    print(\"The result is =\",x)\n",
    "    \n",
    "original_string = \"Dr. Darshan Ingle @AI-ML Trainer\"\n",
    "print(\"The original string is = \", original_string)\n",
    "replace_char(original_string)"
   ]
  }
 ],
 "metadata": {
  "kernelspec": {
   "display_name": "Python [default]",
   "language": "python",
   "name": "python3"
  },
  "language_info": {
   "codemirror_mode": {
    "name": "ipython",
    "version": 3
   },
   "file_extension": ".py",
   "mimetype": "text/x-python",
   "name": "python",
   "nbconvert_exporter": "python",
   "pygments_lexer": "ipython3",
   "version": "3.5.2"
  }
 },
 "nbformat": 4,
 "nbformat_minor": 1
}
