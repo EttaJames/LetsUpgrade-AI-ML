{
 "cells": [
  {
   "cell_type": "markdown",
   "metadata": {},
   "source": [
    "### Question 1\n",
    "Assuming that we have some email addresses in the \"username@companyname.com\" format, please write program\n",
    "to print the company name of a given email address. Both user names and company names are composed of letters\n",
    "only.\n"
   ]
  },
  {
   "cell_type": "code",
   "execution_count": 18,
   "metadata": {
    "collapsed": false
   },
   "outputs": [
    {
     "name": "stdout",
     "output_type": "stream",
     "text": [
      "Enter your email address here: chidera@yahoo.com\n",
      "yahoo"
     ]
    }
   ],
   "source": [
    "mail = input(\"Enter your email address here: \")\n",
    "address1 = mail.index(\"@\")\n",
    "address2 = mail.index(\".\")\n",
    "print(mail[address1+1 : address2], end='')"
   ]
  },
  {
   "cell_type": "markdown",
   "metadata": {},
   "source": [
    "### Question 2\n",
    "Write a program that accepts a comma-separated sequence of words as input and prints the words in a comma\n",
    "separated sequence after sorting them alphabetically.\n"
   ]
  },
  {
   "cell_type": "code",
   "execution_count": 4,
   "metadata": {
    "collapsed": false
   },
   "outputs": [
    {
     "name": "stdout",
     "output_type": "stream",
     "text": [
      "Comma seperated sequence of words: Yesterday, Today, Forever\n",
      "[' Forever', ' Today', 'Yesterday']"
     ]
    }
   ],
   "source": [
    "arrange = list(input(\"Comma seperated sequence of words: \").split(\",\"))\n",
    "arrange.sort()\n",
    "print(arrange, end=\"\")"
   ]
  },
  {
   "cell_type": "markdown",
   "metadata": {},
   "source": [
    "### Question 3\n",
    "Create your own Jupyter Notebook for Sets.\n",
    "Reference link: https://www.w3schools.com/python/python_sets.asp\n"
   ]
  },
  {
   "cell_type": "code",
   "execution_count": 17,
   "metadata": {
    "collapsed": false
   },
   "outputs": [
    {
     "name": "stdout",
     "output_type": "stream",
     "text": [
      "{'yam', 'bread', 'beans'}\n",
      "yam\n",
      "bread\n",
      "beans\n",
      "True\n",
      "{'Plantains', 'yam', 'bread', 'beans'}\n",
      "{'beans', 'salt', 'yam', 'pepper', 'eggs', 'bread'}\n",
      "3\n",
      "{'yam', 'beans'}\n",
      "{'yam', 'beans'}\n",
      "yam\n",
      "{'bread', 'beans'}\n",
      "set()\n",
      "{1, 2, 3, 'r', 'v', 'a'}\n",
      "{1, 2, 3, 'c', 'a', 'b'}\n",
      "{'cheese', 'milk', 'coffee'}\n"
     ]
    }
   ],
   "source": [
    "#Creating a set\n",
    "setA = {\"beans\", \"bread\", \"yam\"}\n",
    "print(setA)\n",
    "\n",
    "# Looping through the set and printing out the values\n",
    "setA = {\"beans\", \"bread\", \"yam\"}\n",
    "for x in setA:\n",
    "  print(x)\n",
    "\n",
    "#Checking if a value is in the set\n",
    "setA = {\"beans\", \"bread\", \"yam\"}\n",
    "print(\"yam\" in setA)\n",
    "\n",
    "#Adding an item to the set using the add() method\n",
    "setA = {\"beans\", \"bread\", \"yam\"}\n",
    "setA.add(\"Plantains\")\n",
    "print(setA)\n",
    "\n",
    "#Add multiple items to a set, using the update() method:\n",
    "setA = {\"beans\", \"bread\", \"yam\"}\n",
    "setA.update([\"pepper\", \"salt\", \"eggs\"])\n",
    "print(setA)\n",
    "\n",
    "# Get the number of items in a set:\n",
    "setA = {\"beans\", \"bread\", \"yam\"}\n",
    "print(len(setA))\n",
    "\n",
    "# Remove \"bread\" by using the remove() method:\n",
    "setA = {\"beans\", \"bread\", \"yam\"}\n",
    "setA.remove(\"bread\")\n",
    "print(setA)\n",
    "\n",
    "# Remove \"bread\" by using the discard() method:\n",
    "setA = {\"beans\", \"bread\", \"yam\"}\n",
    "setA.discard(\"bread\")\n",
    "print(setA)\n",
    "\n",
    "# use the pop() method to remove the last item :\n",
    "setA = {\"beans\", \"bread\", \"yam\"}\n",
    "a = setA.pop()\n",
    "print(a)\n",
    "print(setA)\n",
    "\n",
    "# The clear() method empties the set:\n",
    "setA = {\"beans\", \"bread\", \"yam\"}\n",
    "setA.clear()\n",
    "print(setA)\n",
    "\n",
    "\n",
    "# The union() method returns a new set with all items from both sets\n",
    "setX = {\"v\", \"a\" , \"r\"}\n",
    "setY = {1, 2, 3}\n",
    "setZ = setX.union(setY)\n",
    "print(setZ)\n",
    "\n",
    "# The update() method inserts the items in set2 into set1:\n",
    "set_x = {\"a\", \"b\" , \"c\"}\n",
    "set_y = {1, 2, 3}\n",
    "\n",
    "set_x.update(set_y)\n",
    "print(set_x)\n",
    "\n",
    "#Using the set() constructor to make a set:\n",
    "newset = set((\"milk\", \"coffee\", \"cheese\")) # Double round brackets are used here as seen\n",
    "print(newset)\n"
   ]
  },
  {
   "cell_type": "markdown",
   "metadata": {},
   "source": [
    "### Question 4\n",
    "Given a list of n-1 numbers ranging from 1 to n, your task is to find the missing number. There are no duplicates.\n"
   ]
  },
  {
   "cell_type": "code",
   "execution_count": 2,
   "metadata": {
    "collapsed": false
   },
   "outputs": [
    {
     "name": "stdout",
     "output_type": "stream",
     "text": [
      "Insert value here: 1 2 5 4\n",
      "The missing value is  3\n"
     ]
    }
   ],
   "source": [
    "text = list(map(int,input(\"Insert value here: \").split()))\n",
    "for x in range(1, text[-1]+1):\n",
    "    if x not in text:\n",
    "        print(\"The missing value is \", x)"
   ]
  },
  {
   "cell_type": "markdown",
   "metadata": {},
   "source": [
    "### Question 5\n",
    "With a given list L, write a program to print this list L after removing all duplicate values with original order reserved.\n"
   ]
  },
  {
   "cell_type": "code",
   "execution_count": 6,
   "metadata": {
    "collapsed": false
   },
   "outputs": [
    {
     "name": "stdout",
     "output_type": "stream",
     "text": [
      "1 2 3 4 5 6 7 8 9 4 5 2 1 4\n",
      "1 2 3 4 5 6 7 8 9\n"
     ]
    }
   ],
   "source": [
    "Q = list(map(int, input().strip().split()))\n",
    "\n",
    "z = sorted(set(Q))\n",
    "z = list(map(str, z))\n",
    "\n",
    "print(\" \".join(z))"
   ]
  }
 ],
 "metadata": {
  "kernelspec": {
   "display_name": "Python [default]",
   "language": "python",
   "name": "python3"
  },
  "language_info": {
   "codemirror_mode": {
    "name": "ipython",
    "version": 3
   },
   "file_extension": ".py",
   "mimetype": "text/x-python",
   "name": "python",
   "nbconvert_exporter": "python",
   "pygments_lexer": "ipython3",
   "version": "3.5.2"
  }
 },
 "nbformat": 4,
 "nbformat_minor": 1
}
