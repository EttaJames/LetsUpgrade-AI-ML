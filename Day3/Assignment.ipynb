{
 "cells": [
  {
   "cell_type": "markdown",
   "metadata": {},
   "source": [
    "#### QUESTION 1"
   ]
  },
  {
   "cell_type": "code",
   "execution_count": 63,
   "metadata": {
    "collapsed": false
   },
   "outputs": [
    {
     "name": "stdout",
     "output_type": "stream",
     "text": [
      "(8+56j)\n"
     ]
    }
   ],
   "source": [
    "# Write a program to subtract two complex numbers in Python.\n",
    "a = 15 + 69j\n",
    "b = 7 + 13j\n",
    "x = a - b\n",
    "print(x)"
   ]
  },
  {
   "cell_type": "markdown",
   "metadata": {},
   "source": [
    "#### QUESTION 2"
   ]
  },
  {
   "cell_type": "code",
   "execution_count": 28,
   "metadata": {
    "collapsed": false
   },
   "outputs": [
    {
     "name": "stdout",
     "output_type": "stream",
     "text": [
      "4100625 is the fourth root of 45\n"
     ]
    }
   ],
   "source": [
    "# Write a program to find the fourth root of a number\n",
    "x = 45\n",
    "fourth_root = x ** 4\n",
    "print(fourth_root, \"is the fourth root of 45\")"
   ]
  },
  {
   "cell_type": "markdown",
   "metadata": {},
   "source": [
    "#### QUESTION 3"
   ]
  },
  {
   "cell_type": "code",
   "execution_count": 61,
   "metadata": {
    "collapsed": false
   },
   "outputs": [
    {
     "name": "stdout",
     "output_type": "stream",
     "text": [
      "59\n",
      "30\n"
     ]
    }
   ],
   "source": [
    "# Write a program to swap two numbers in Python with the help of a temporary variable.\n",
    "x = 30\n",
    "y = 59\n",
    "\n",
    "#The temporary variable q is used for the swap\n",
    "q = x\n",
    "x = y\n",
    "y = q\n",
    "\n",
    "print(x)\n",
    "print(y)"
   ]
  },
  {
   "cell_type": "markdown",
   "metadata": {},
   "source": [
    "#### QUESTION 4"
   ]
  },
  {
   "cell_type": "code",
   "execution_count": 62,
   "metadata": {
    "collapsed": false
   },
   "outputs": [
    {
     "name": "stdout",
     "output_type": "stream",
     "text": [
      "10\n",
      "6\n"
     ]
    }
   ],
   "source": [
    "# Write a program to swap two numbers in Python without using a temporary variable.\n",
    "\n",
    "x = 6\n",
    "y = 10\n",
    "\n",
    "#switching without a temporary variable\n",
    "\n",
    "x,y = y,x\n",
    "\n",
    "print(x)\n",
    "print(y)"
   ]
  },
  {
   "cell_type": "markdown",
   "metadata": {},
   "source": [
    "#### QUESTION 5"
   ]
  },
  {
   "cell_type": "code",
   "execution_count": 29,
   "metadata": {
    "collapsed": false
   },
   "outputs": [
    {
     "name": "stdout",
     "output_type": "stream",
     "text": [
      "7.222222222222222 degrees Celsius\n"
     ]
    }
   ],
   "source": [
    "# Write a program to convert fahrenheit to kelvin and celsius both.\n",
    "\n",
    "'''Converting 45 degrees fahreinheit to Celsius\n",
    "   The formula for converting fahreinheit to celsius is given as\n",
    "   C = 5/9(°F-32) where C is value in Celsius and F is value in Fahreinheit\n",
    "'''\n",
    "fahrenheit = 45\n",
    "\n",
    "# To calculate Celsius\n",
    "Celsius = 5/9*(fahrenheit-32)\n",
    "\n",
    "print(Celsius, \"degrees Celsius\")"
   ]
  },
  {
   "cell_type": "code",
   "execution_count": 64,
   "metadata": {
    "collapsed": false
   },
   "outputs": [
    {
     "name": "stdout",
     "output_type": "stream",
     "text": [
      "280.3722222222222 degrees Kelvin\n"
     ]
    }
   ],
   "source": [
    "'''Converting 45 degrees fahreinheit to Kelvin\n",
    "   The formula for converting fahreinheit to Kelvin is given as\n",
    "   (°F − 32) × 5/9 + 273.15 = K\n",
    "'''\n",
    "fahrenheit = 45\n",
    "\n",
    "# To calculate Kelvin\n",
    "kelvin = (fahrenheit - 32)* 5 / 9 + 273.15\n",
    "\n",
    "print(kelvin, \"degrees Kelvin\")"
   ]
  },
  {
   "cell_type": "markdown",
   "metadata": {},
   "source": [
    "#### QUESTION 6"
   ]
  },
  {
   "cell_type": "code",
   "execution_count": 60,
   "metadata": {
    "collapsed": false
   },
   "outputs": [
    {
     "name": "stdout",
     "output_type": "stream",
     "text": [
      "1 is of type <class 'int'>\n",
      "5.98458 is of type <class 'float'>\n",
      "(12+9j) is complex number\n",
      "I am a LetsUpgrade student is of type <class 'str'>\n",
      "('Eggs', 'Milk', 'Bread') is of type <class 'tuple'>\n",
      "['Rice', 'Stew', 'Salad'] is of type <class 'list'>\n",
      "True is of type <class 'bool'>\n"
     ]
    }
   ],
   "source": [
    "# Write a program to demonstrate all the available data types in Python. Hint: Use type() function.\n",
    "\n",
    "\n",
    "x = 1\n",
    "print(x, \"is of type\", type(x))\n",
    "\n",
    "y = 5.98458\n",
    "print(y, \"is of type\", type(y))\n",
    "\n",
    "z = 12+9j\n",
    "print(z, \"is complex number\")\n",
    "\n",
    "text = \"I am a LetsUpgrade student\"\n",
    "print(text, \"is of type\", type(text))\n",
    "\n",
    "breakfast = ('Eggs', 'Milk', 'Bread')\n",
    "print(breakfast, \"is of type\", type(breakfast))\n",
    "\n",
    "dinner = ['Rice', 'Stew', 'Salad']\n",
    "print(dinner, \"is of type\", type(dinner))\n",
    "\n",
    "n = True\n",
    "print(n, \"is of type\", type(n))"
   ]
  },
  {
   "cell_type": "markdown",
   "metadata": {},
   "source": [
    "#### QUESTION 7"
   ]
  },
  {
   "cell_type": "markdown",
   "metadata": {},
   "source": [
    "###  Steps discussed in the session by  Dr. Darshan Ingle sir to create Github profile and upload Githubs   Assignment link.\n",
    "\n",
    "##### Step 1: \n",
    "Go to www.Github.com\n",
    "##### Step 2: \n",
    "Create a Github profile by clicking on \"Sign up for Github\" and following the steps\n",
    "##### Step 3:\n",
    "On your PC, Create a folder for each day inside of a LetsUpgrade folder where each assignment will be stored \n",
    "(e.g Day 3 assignment should be stored in Day 3 folder)\n",
    "##### Step 4:\n",
    "Click on \"New\" to create a new repository, in the \"Repository name\" space, type in \"LetsUpgrade AI-ML\"\n",
    "##### Step 5: \n",
    "In the description box, type \"Assignments\". \n",
    "\n",
    "By default, the repository is set to \"Public\" and it should be left that way so it can be accessible\n",
    "\n",
    "Then click on \"Create repository\"\n",
    "\n",
    "##### Step 6: \n",
    "A folder called \"LetsUpgrade AI-ML\" will be created, next, we click on the \"upload an existing file\" link,\n",
    "\n",
    "drag the Day 3 folder from where it is stored on our PC to our github and drop it in the \"Drag additional files here to add them to your repository\" part of the page, after it gets uploaded, click on \"Commit changes\"\n",
    "\n",
    "##### Step 7: \n",
    "To revisit this file, we go to the Home folder, click on \"repositories\" and click and open  the LetsUpgrade AI-ML repository and the folder (Day 3 in this case) will be displayed. \n",
    "Click to open the folder to display the assignment saved within it\n",
    "\n",
    "##### Step 8:\n",
    "On the address bar, select the entire URL link and copy it. \n",
    "Go to the Assignment submission form provided by the LetsUpgrade team for assignment submission and fill in the following\n",
    "- Your LetsUpgrade registered email address\n",
    "- Full name\n",
    "- Enter email address again\n",
    "- Enter phone number\n",
    "- In the 'assignment number' drop down box, click and choose the particular days' assigment to be uploaded\n",
    "Before submitting, we are to firstly confirm the URL is visible to everyone by opening a tab in incognito mode in our browser   and pasting our assignment URL there. If we are able to see our file displayed there, that means it is Public.\n",
    "- Finally, paste the github URL of the assignment and click on \"Submit\"\n",
    "\n",
    "\n",
    "\n"
   ]
  }
 ],
 "metadata": {
  "anaconda-cloud": {},
  "kernelspec": {
   "display_name": "Python [default]",
   "language": "python",
   "name": "python3"
  },
  "language_info": {
   "codemirror_mode": {
    "name": "ipython",
    "version": 3
   },
   "file_extension": ".py",
   "mimetype": "text/x-python",
   "name": "python",
   "nbconvert_exporter": "python",
   "pygments_lexer": "ipython3",
   "version": "3.5.2"
  }
 },
 "nbformat": 4,
 "nbformat_minor": 1
}
